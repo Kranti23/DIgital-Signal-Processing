{
 "cells": [
  {
   "cell_type": "code",
   "execution_count": 1,
   "metadata": {},
   "outputs": [
    {
     "name": "stdout",
     "output_type": "stream",
     "text": [
      "IDFT:\n",
      "[1.+0.j 2.+0.j 3.+0.j 4.+0.j]\n"
     ]
    }
   ],
   "source": [
    "import numpy as np\n",
    "import matplotlib.pyplot as plt\n",
    "x=np.array([1+0j,2+0j,3+0j,4+0j])\n",
    "X=np.zeros(4,dtype=np.complex)\n",
    "N=4\n",
    "idft=np.zeros(4,dtype=np.complex)\n",
    "for n in range(N):\n",
    "    for k in range(N):\n",
    "        ang=(2*np.pi*k*n)/N\n",
    "    idft[n]=idft[n]+(X[k]*np.cos(ang))+1j*(X[k]*np.sin(ang))\n",
    "idft=idft/4\n",
    "idft=np.around(idft)\n",
    "print(\"IDFT:\")\n",
    "print(x)"
   ]
  },
  {
   "cell_type": "code",
   "execution_count": null,
   "metadata": {},
   "outputs": [],
   "source": []
  }
 ],
 "metadata": {
  "kernelspec": {
   "display_name": "Python 3",
   "language": "python",
   "name": "python3"
  },
  "language_info": {
   "codemirror_mode": {
    "name": "ipython",
    "version": 3
   },
   "file_extension": ".py",
   "mimetype": "text/x-python",
   "name": "python",
   "nbconvert_exporter": "python",
   "pygments_lexer": "ipython3",
   "version": "3.7.4"
  }
 },
 "nbformat": 4,
 "nbformat_minor": 4
}
