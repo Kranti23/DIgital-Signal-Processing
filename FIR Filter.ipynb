{
 "cells": [
  {
   "cell_type": "code",
   "execution_count": 2,
   "metadata": {},
   "outputs": [
    {
     "data": {
      "text/plain": [
       "[<matplotlib.lines.Line2D at 0x1953fa40e48>]"
      ]
     },
     "execution_count": 2,
     "metadata": {},
     "output_type": "execute_result"
    },
    {
     "data": {
      "image/png": "[encoded data removed]",
      "text/plain": [
       "<Figure size 432x288 with 1 Axes>"
      ]
     },
     "metadata": {
      "needs_background": "light"
     },
     "output_type": "display_data"
    }
   ],
   "source": [
    "import numpy as np\n",
    "import matplotlib.pyplot as plt\n",
    "import random\n",
    "f1,f2,f3,f4,f5,f6=500,700,1000,1300,1500,1750\n",
    "M=2000\n",
    "fs=4000\n",
    "\n",
    "t=np.linspace(0,20,M)\n",
    "x1=5*np.sin(2*np.pi*f1*t)\n",
    "x2=np.sin(2*np.pi*f2*t)\n",
    "x3=2*np.sin(2*np.pi*f3*t)\n",
    "x4=2*np.sin(2*np.pi*f4*t)\n",
    "x5=2*np.sin(2*np.pi*f5*t)\n",
    "x6=2*np.sin(2*np.pi*f6*t)\n",
    "x= x1=x2+x3+x4+x5+x6\n",
    "plt.plot(t,x)"
   ]
  },
  {
   "cell_type": "code",
   "execution_count": 2,
   "metadata": {},
   "outputs": [
    {
     "name": "stderr",
     "output_type": "stream",
     "text": [
      "c:\\users\\kranti\\appdata\\local\\programs\\python\\python37\\lib\\site-packages\\ipykernel_launcher.py:6: RuntimeWarning: invalid value encountered in double_scalars\n",
      "  \n"
     ]
    },
    {
     "data": {
      "text/plain": [
       "[0.09000000000000002,\n",
       " 0.7272660764462141,\n",
       " 0.8341396293886254,\n",
       " 0.10792337100733534]"
      ]
     },
     "execution_count": 2,
     "metadata": {},
     "output_type": "execute_result"
    }
   ],
   "source": [
    "\n",
    "a=[[]]*4\n",
    "a[0].append(0)\n",
    "alpha = 3\n",
    "w_c = 1.8849\n",
    "for i in range(0,4):\n",
    "    a[i] = ((np.sin(i-alpha) * w_c)/  (i-alpha))\n",
    "a[3]= w_c \n",
    "a\n",
    "\n",
    "w_n=[[]]*4\n",
    "n=2\n",
    "w_n[0].append(0)\n",
    "for i in range(0,4):\n",
    "    w_n[i]=0.54 - 0.45*(np.cos(2*i/(n-1)))\n",
    "    \n",
    "w_n\n"
   ]
  },
  {
   "cell_type": "code",
   "execution_count": 1,
   "metadata": {},
   "outputs": [
    {
     "ename": "IndexError",
     "evalue": "list index out of range",
     "output_type": "error",
     "traceback": [
      "\u001b[1;31m---------------------------------------------------------------------------\u001b[0m",
      "\u001b[1;31mIndexError\u001b[0m                                Traceback (most recent call last)",
      "\u001b[1;32m<ipython-input-1-2c7ff9083730>\u001b[0m in \u001b[0;36m<module>\u001b[1;34m\u001b[0m\n\u001b[0;32m      1\u001b[0m \u001b[0ma\u001b[0m\u001b[1;33m=\u001b[0m\u001b[1;33m[\u001b[0m\u001b[1;33m]\u001b[0m\u001b[1;33m*\u001b[0m\u001b[1;36m5\u001b[0m\u001b[1;33m\u001b[0m\u001b[1;33m\u001b[0m\u001b[0m\n\u001b[1;32m----> 2\u001b[1;33m \u001b[0ma\u001b[0m\u001b[1;33m[\u001b[0m\u001b[1;36m0\u001b[0m\u001b[1;33m]\u001b[0m\u001b[1;33m.\u001b[0m\u001b[0mappend\u001b[0m\u001b[1;33m(\u001b[0m\u001b[1;36m0\u001b[0m\u001b[1;33m)\u001b[0m\u001b[1;33m\u001b[0m\u001b[1;33m\u001b[0m\u001b[0m\n\u001b[0m\u001b[0;32m      3\u001b[0m \u001b[0malpha\u001b[0m \u001b[1;33m=\u001b[0m \u001b[1;36m5\u001b[0m\u001b[1;33m\u001b[0m\u001b[1;33m\u001b[0m\u001b[0m\n\u001b[0;32m      4\u001b[0m \u001b[0mw_c\u001b[0m \u001b[1;33m=\u001b[0m \u001b[1;36m1.8849\u001b[0m\u001b[1;33m\u001b[0m\u001b[1;33m\u001b[0m\u001b[0m\n\u001b[0;32m      5\u001b[0m \u001b[1;32mfor\u001b[0m \u001b[0mi\u001b[0m \u001b[1;32min\u001b[0m \u001b[0mrange\u001b[0m\u001b[1;33m(\u001b[0m\u001b[1;36m0\u001b[0m\u001b[1;33m,\u001b[0m\u001b[1;36m4\u001b[0m\u001b[1;33m)\u001b[0m\u001b[1;33m:\u001b[0m\u001b[1;33m\u001b[0m\u001b[1;33m\u001b[0m\u001b[0m\n",
      "\u001b[1;31mIndexError\u001b[0m: list index out of range"
     ]
    }
   ],
   "source": [
    "a=[[]]*5\n",
    "a[0].append(0)\n",
    "alpha = 5\n",
    "w_c = 1.8849\n",
    "for i in range(0,4):\n",
    "    a[i] = ((np.sin(i-alpha) * w_c)/ (pi * (i-alpha)))\n",
    "a[3]= w_c / pi\n",
    "a\n",
    "\n",
    "w_n=[[]]*4\n",
    "n=2\n",
    "w_n[0].append(0)\n",
    "for i in range(0,4):\n",
    "    w_n[i]=0.54 - 0.45*(np.cos(2*i*pi/(n-1)))\n",
    "    \n",
    "w_n\n"
   ]
  },
  {
   "cell_type": "code",
   "execution_count": null,
   "metadata": {},
   "outputs": [],
   "source": []
  }
 ],
 "metadata": {
  "kernelspec": {
   "display_name": "Python 3",
   "language": "python",
   "name": "python3"
  },
  "language_info": {
   "codemirror_mode": {
    "name": "ipython",
    "version": 3
   },
   "file_extension": ".py",
   "mimetype": "text/x-python",
   "name": "python",
   "nbconvert_exporter": "python",
   "pygments_lexer": "ipython3",
   "version": "3.7.4"
  }
 },
 "nbformat": 4,
 "nbformat_minor": 4
}
