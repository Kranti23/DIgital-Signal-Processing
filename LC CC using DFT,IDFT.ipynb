{
 "cells": [
  {
   "cell_type": "code",
   "execution_count": 2,
   "metadata": {},
   "outputs": [
    {
     "name": "stdout",
     "output_type": "stream",
     "text": [
      "[-3. 10. 10. 12.]\n",
      "[0.+0.j 0.+0.j 0.+0.j 0.+0.j]\n"
     ]
    },
    {
     "data": {
      "image/png": "[encoded data removed]",
      "text/plain": [
       "<Figure size 432x288 with 1 Axes>"
      ]
     },
     "metadata": {
      "needs_background": "light"
     },
     "output_type": "display_data"
    }
   ],
   "source": [
    "import numpy as np\n",
    "import matplotlib.pyplot as plt\n",
    "x=np.array([-1,4,1,2])\n",
    "h=np.array([3,2,1,0])\n",
    "len_x=len(x)\n",
    "len_h=len(h)\n",
    "y=np.zeros(len_x+len_h-1)\n",
    "for i in range(len_x):\n",
    "    for j in range(len_h):\n",
    "         y[i+j]=y[i+j]+x[i]*h[j]\n",
    "if len_x>len_h:\n",
    "    max=len_x\n",
    "k=0\n",
    "for i in range(len_x+len_h-1):\n",
    "    if i>=4:\n",
    "        y[k]+=y[i]  \n",
    "    k=k+1\n",
    "y[i]=0\n",
    "print(y[0:4])\n",
    "plt.stem(y)\n",
    "plt.xlabel('n')\n",
    "plt.ylabel('y[n]')\n",
    "dft1=np.zeros(4,dtype=complex)\n",
    "for i in range(4):\n",
    "    for j in range(4):\n",
    "        ph=-2*np.pi*i*j/4\n",
    "dft1[i]+=x[j]*np.cos(ph)+1j*(x[j]*np.sin(ph))\n",
    "dft1=np.around(dft1,2)\n",
    "dft2=np.zeros(4,dtype=complex)\n",
    "for i in range(4):\n",
    "    for j in range(4):\n",
    "        ph=-2*np.pi*i*j/4\n",
    "dft2[i]+=h[j]*np.cos(ph)+1j*(h[j]*np.sin(ph))\n",
    "dft2=np.around(dft2,2)\n",
    "dft=dft1*dft2\n",
    "idft=np.zeros(4,dtype=complex)\n",
    "for i in range(4):\n",
    "     for j in range(4):\n",
    "        ph=2*np.pi*i*j/4\n",
    "idft[i]+=dft[j]*np.cos(ph)+1j*(dft[j]*np.sin(ph))\n",
    "idft=idft/4\n",
    "idft=np.around(idft,2)\n",
    "print(idft)"
   ]
  },
  {
   "cell_type": "code",
   "execution_count": null,
   "metadata": {},
   "outputs": [],
   "source": []
  }
 ],
 "metadata": {
  "kernelspec": {
   "display_name": "Python 3",
   "language": "python",
   "name": "python3"
  },
  "language_info": {
   "codemirror_mode": {
    "name": "ipython",
    "version": 3
   },
   "file_extension": ".py",
   "mimetype": "text/x-python",
   "name": "python",
   "nbconvert_exporter": "python",
   "pygments_lexer": "ipython3",
   "version": "3.7.4"
  }
 },
 "nbformat": 4,
 "nbformat_minor": 4
}
