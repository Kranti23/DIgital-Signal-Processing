{
 "cells": [
  {
   "cell_type": "markdown",
   "metadata": {},
   "source": [
    "## Circular Convolution\n"
   ]
  },
  {
   "cell_type": "code",
   "execution_count": 15,
   "metadata": {},
   "outputs": [
    {
     "name": "stdout",
     "output_type": "stream",
     "text": [
      "[ 4. 10. 10. 12.]\n"
     ]
    },
    {
     "data": {
      "image/png": "[encoded data removed]",
      "text/plain": [
       "<Figure size 432x288 with 1 Axes>"
      ]
     },
     "metadata": {
      "needs_background": "light"
     },
     "output_type": "display_data"
    }
   ],
   "source": [
    "import numpy as np\n",
    "import matplotlib.pyplot as plt\n",
    "x=np.array([-1,4,1,2])\n",
    "h=np.array([3,2,1])\n",
    "len_x=len(x)\n",
    "len_h=len(h)\n",
    "y=np.zeros(len_x+len_h-1)\n",
    "for i in range(len_x):\n",
    "    for j in range(len_h):\n",
    "         y[i+j]=y[i+j]+x[i]*h[j]\n",
    "if len_x>len_h:\n",
    "    max=len_x\n",
    "k=0\n",
    "for i in range(len_x+len_h-1):\n",
    "    if i>=max:\n",
    "        y[k]+=y[i]\n",
    "k=k+1\n",
    "y[i]=0\n",
    "print(y[0:4])\n",
    "plt.stem(y)\n",
    "plt.xlabel('n')\n",
    "plt.ylabel('y[n]')\n",
    "plt.show()\n"
   ]
  },
  {
   "cell_type": "markdown",
   "metadata": {},
   "source": []
  },
  {
   "cell_type": "code",
   "execution_count": null,
   "metadata": {},
   "outputs": [],
   "source": []
  }
 ],
 "metadata": {
  "kernelspec": {
   "display_name": "Python 3",
   "language": "python",
   "name": "python3"
  },
  "language_info": {
   "codemirror_mode": {
    "name": "ipython",
    "version": 3
   },
   "file_extension": ".py",
   "mimetype": "text/x-python",
   "name": "python",
   "nbconvert_exporter": "python",
   "pygments_lexer": "ipython3",
   "version": "3.7.4"
  }
 },
 "nbformat": 4,
 "nbformat_minor": 4
}
